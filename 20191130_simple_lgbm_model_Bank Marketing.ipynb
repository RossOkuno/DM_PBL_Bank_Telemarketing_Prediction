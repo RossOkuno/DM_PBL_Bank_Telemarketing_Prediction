{
 "cells": [
  {
   "cell_type": "code",
   "execution_count": 1,
   "metadata": {},
   "outputs": [
    {
     "name": "stderr",
     "output_type": "stream",
     "text": [
      "/Users/rairaokuno/opt/anaconda3/lib/python3.7/site-packages/lightgbm/__init__.py:46: UserWarning: Starting from version 2.2.1, the library file in distribution wheels for macOS is built by the Apple Clang (Xcode_8.3.3) compiler.\n",
      "This means that in case of installing LightGBM from PyPI via the ``pip install lightgbm`` command, you don't need to install the gcc compiler anymore.\n",
      "Instead of that, you need to install the OpenMP library, which is required for running LightGBM on the system with the Apple Clang compiler.\n",
      "You can install the OpenMP library by the following command: ``brew install libomp``.\n",
      "  \"You can install the OpenMP library by the following command: ``brew install libomp``.\", UserWarning)\n"
     ]
    }
   ],
   "source": [
    "import pandas as pd\n",
    "import numpy as np\n",
    "import seaborn as sns\n",
    "import matplotlib.pyplot as plt\n",
    "from sklearn.model_selection import train_test_split\n",
    "from sklearn.ensemble import RandomForestClassifier\n",
    "from sklearn.metrics import accuracy_score\n",
    "from sklearn.preprocessing import LabelEncoder\n",
    "\n",
    "\n",
    "import lightgbm as lgb\n",
    "from sklearn.metrics import mean_squared_error\n",
    "from sklearn.metrics import precision_score\n",
    "from sklearn.metrics import recall_score\n",
    "from sklearn.metrics import f1_score\n",
    "from sklearn.metrics import roc_auc_score\n",
    "\n",
    "from sklearn.metrics import confusion_matrix"
   ]
  },
  {
   "cell_type": "code",
   "execution_count": 2,
   "metadata": {
    "scrolled": true
   },
   "outputs": [],
   "source": [
    "train = pd.read_csv(\"bank_marketing_train.csv\")\n",
    "test = pd.read_csv(\"bank_marketing_test.csv\")"
   ]
  },
  {
   "cell_type": "code",
   "execution_count": 11,
   "metadata": {},
   "outputs": [],
   "source": [
    "def simple_lgbc_model(train_df, test_df):\n",
    "    \"\"\"\n",
    "    This function returns a list of prediction. \n",
    "    Several libraries required. Copy, paste the following codes and run in advance.\n",
    "    \n",
    "    import pandas as pd\n",
    "    import numpy as np\n",
    "    import seaborn as sns\n",
    "    import matplotlib.pyplot as plt\n",
    "    from sklearn.model_selection import train_test_split\n",
    "    from sklearn.ensemble import RandomForestClassifier\n",
    "    from sklearn.metrics import accuracy_score\n",
    "    from sklearn.preprocessing import LabelEncoder\n",
    "    \n",
    "    Parameters\n",
    "    ----------\n",
    "    train_df : Pandas DataFrame. Including 20 features cols and 1 target cols.\n",
    "    test_df : Pandas DataFrame. Including 20 features cols.\n",
    "    In advance, label encording is not necessary, as it automatically process.\n",
    "    \"\"\"\n",
    "    combined = [train_df, test_df]\n",
    "\n",
    "    target_col = [\"y\"]\n",
    "    drop_cols = [\"duration\"] + target_col\n",
    "    feature_cols = [col for col in train_df.columns if col not in drop_cols]\n",
    "    categorical_cols =  train_df.select_dtypes(exclude=\"number\").columns.tolist()\n",
    "    numerical_cols = [col for col in train_df.columns if col not in categorical_cols]\n",
    "    \n",
    "    le = LabelEncoder()\n",
    "    for df in combined:\n",
    "        for col in categorical_cols:\n",
    "            df[col] = le.fit_transform(df[col])\n",
    "    \n",
    "    X = train_df[feature_cols]\n",
    "    y = train_df[target_col]\n",
    "    X2 = test_df[feature_cols]\n",
    "    \n",
    "    #     from sklearn.model_selection import train_test_split\n",
    "    X_train, X_val, y_train, y_val = train_test_split(X, y, test_size = 0.3, random_state = 1234)\n",
    "            \n",
    "    seed = 1234\n",
    "    gbm = lgb.LGBMClassifier(class_weight=\"balanced\")\n",
    "\n",
    "    gbm.fit(X_train, y_train, eval_set=[(X_val, y_val)], early_stopping_rounds=10, verbose=False)\n",
    "    ret = mean_squared_error(y_val, gbm.predict(X_val))\n",
    "\n",
    "    # make an importance dataframe\n",
    "    importance = pd.DataFrame(gbm.feature_importances_, index=train[feature_cols].columns, columns=['importance'])\n",
    "    print(importance.sort_index(by=\"importance\", ascending=False))\n",
    "    \n",
    "    # prediction\n",
    "    y_pred_clf = gbm.predict(X2)\n",
    "    \n",
    "    return y_pred_clf"
   ]
  },
  {
   "cell_type": "code",
   "execution_count": 4,
   "metadata": {},
   "outputs": [
    {
     "data": {
      "text/html": [
       "<div>\n",
       "<style scoped>\n",
       "    .dataframe tbody tr th:only-of-type {\n",
       "        vertical-align: middle;\n",
       "    }\n",
       "\n",
       "    .dataframe tbody tr th {\n",
       "        vertical-align: top;\n",
       "    }\n",
       "\n",
       "    .dataframe thead th {\n",
       "        text-align: right;\n",
       "    }\n",
       "</style>\n",
       "<table border=\"1\" class=\"dataframe\">\n",
       "  <thead>\n",
       "    <tr style=\"text-align: right;\">\n",
       "      <th></th>\n",
       "      <th>age</th>\n",
       "      <th>job</th>\n",
       "      <th>marital</th>\n",
       "      <th>education</th>\n",
       "      <th>default</th>\n",
       "      <th>housing</th>\n",
       "      <th>loan</th>\n",
       "      <th>contact</th>\n",
       "      <th>day_of_week</th>\n",
       "      <th>duration</th>\n",
       "      <th>campaign</th>\n",
       "      <th>pdays</th>\n",
       "      <th>previous</th>\n",
       "      <th>poutcome</th>\n",
       "      <th>emp.var.rate</th>\n",
       "      <th>cons.price.idx</th>\n",
       "      <th>cons.conf.idx</th>\n",
       "      <th>euribor3m</th>\n",
       "      <th>nr.employed</th>\n",
       "      <th>y</th>\n",
       "    </tr>\n",
       "  </thead>\n",
       "  <tbody>\n",
       "    <tr>\n",
       "      <td>0</td>\n",
       "      <td>37</td>\n",
       "      <td>services</td>\n",
       "      <td>married</td>\n",
       "      <td>high.school</td>\n",
       "      <td>no</td>\n",
       "      <td>yes</td>\n",
       "      <td>no</td>\n",
       "      <td>telephone</td>\n",
       "      <td>mon</td>\n",
       "      <td>226</td>\n",
       "      <td>1</td>\n",
       "      <td>999</td>\n",
       "      <td>0</td>\n",
       "      <td>nonexistent</td>\n",
       "      <td>1.1</td>\n",
       "      <td>93.125</td>\n",
       "      <td>-35.4</td>\n",
       "      <td>1.806</td>\n",
       "      <td>5191.6</td>\n",
       "      <td>no</td>\n",
       "    </tr>\n",
       "    <tr>\n",
       "      <td>1</td>\n",
       "      <td>40</td>\n",
       "      <td>admin.</td>\n",
       "      <td>married</td>\n",
       "      <td>basic.6y</td>\n",
       "      <td>no</td>\n",
       "      <td>no</td>\n",
       "      <td>no</td>\n",
       "      <td>telephone</td>\n",
       "      <td>mon</td>\n",
       "      <td>151</td>\n",
       "      <td>1</td>\n",
       "      <td>999</td>\n",
       "      <td>0</td>\n",
       "      <td>nonexistent</td>\n",
       "      <td>1.1</td>\n",
       "      <td>93.125</td>\n",
       "      <td>-35.4</td>\n",
       "      <td>1.806</td>\n",
       "      <td>5191.6</td>\n",
       "      <td>no</td>\n",
       "    </tr>\n",
       "    <tr>\n",
       "      <td>2</td>\n",
       "      <td>25</td>\n",
       "      <td>services</td>\n",
       "      <td>single</td>\n",
       "      <td>high.school</td>\n",
       "      <td>no</td>\n",
       "      <td>yes</td>\n",
       "      <td>no</td>\n",
       "      <td>telephone</td>\n",
       "      <td>mon</td>\n",
       "      <td>50</td>\n",
       "      <td>1</td>\n",
       "      <td>999</td>\n",
       "      <td>0</td>\n",
       "      <td>nonexistent</td>\n",
       "      <td>1.1</td>\n",
       "      <td>93.125</td>\n",
       "      <td>-35.4</td>\n",
       "      <td>1.806</td>\n",
       "      <td>5191.6</td>\n",
       "      <td>no</td>\n",
       "    </tr>\n",
       "    <tr>\n",
       "      <td>3</td>\n",
       "      <td>41</td>\n",
       "      <td>blue-collar</td>\n",
       "      <td>married</td>\n",
       "      <td>unknown</td>\n",
       "      <td>unknown</td>\n",
       "      <td>no</td>\n",
       "      <td>no</td>\n",
       "      <td>telephone</td>\n",
       "      <td>mon</td>\n",
       "      <td>55</td>\n",
       "      <td>1</td>\n",
       "      <td>999</td>\n",
       "      <td>0</td>\n",
       "      <td>nonexistent</td>\n",
       "      <td>1.1</td>\n",
       "      <td>93.125</td>\n",
       "      <td>-35.4</td>\n",
       "      <td>1.806</td>\n",
       "      <td>5191.6</td>\n",
       "      <td>no</td>\n",
       "    </tr>\n",
       "    <tr>\n",
       "      <td>4</td>\n",
       "      <td>37</td>\n",
       "      <td>admin.</td>\n",
       "      <td>married</td>\n",
       "      <td>high.school</td>\n",
       "      <td>no</td>\n",
       "      <td>yes</td>\n",
       "      <td>no</td>\n",
       "      <td>telephone</td>\n",
       "      <td>mon</td>\n",
       "      <td>172</td>\n",
       "      <td>1</td>\n",
       "      <td>999</td>\n",
       "      <td>0</td>\n",
       "      <td>nonexistent</td>\n",
       "      <td>1.1</td>\n",
       "      <td>93.125</td>\n",
       "      <td>-35.4</td>\n",
       "      <td>1.806</td>\n",
       "      <td>5191.6</td>\n",
       "      <td>no</td>\n",
       "    </tr>\n",
       "  </tbody>\n",
       "</table>\n",
       "</div>"
      ],
      "text/plain": [
       "   age          job  marital    education  default housing loan    contact  \\\n",
       "0   37     services  married  high.school       no     yes   no  telephone   \n",
       "1   40       admin.  married     basic.6y       no      no   no  telephone   \n",
       "2   25     services   single  high.school       no     yes   no  telephone   \n",
       "3   41  blue-collar  married      unknown  unknown      no   no  telephone   \n",
       "4   37       admin.  married  high.school       no     yes   no  telephone   \n",
       "\n",
       "  day_of_week  duration  campaign  pdays  previous     poutcome  emp.var.rate  \\\n",
       "0         mon       226         1    999         0  nonexistent           1.1   \n",
       "1         mon       151         1    999         0  nonexistent           1.1   \n",
       "2         mon        50         1    999         0  nonexistent           1.1   \n",
       "3         mon        55         1    999         0  nonexistent           1.1   \n",
       "4         mon       172         1    999         0  nonexistent           1.1   \n",
       "\n",
       "   cons.price.idx  cons.conf.idx  euribor3m  nr.employed   y  \n",
       "0          93.125          -35.4      1.806       5191.6  no  \n",
       "1          93.125          -35.4      1.806       5191.6  no  \n",
       "2          93.125          -35.4      1.806       5191.6  no  \n",
       "3          93.125          -35.4      1.806       5191.6  no  \n",
       "4          93.125          -35.4      1.806       5191.6  no  "
      ]
     },
     "execution_count": 4,
     "metadata": {},
     "output_type": "execute_result"
    }
   ],
   "source": [
    "train.head()\n",
    "test.head()"
   ]
  },
  {
   "cell_type": "code",
   "execution_count": 12,
   "metadata": {},
   "outputs": [
    {
     "name": "stderr",
     "output_type": "stream",
     "text": [
      "/Users/rairaokuno/opt/anaconda3/lib/python3.7/site-packages/sklearn/preprocessing/label.py:219: DataConversionWarning: A column-vector y was passed when a 1d array was expected. Please change the shape of y to (n_samples, ), for example using ravel().\n",
      "  y = column_or_1d(y, warn=True)\n",
      "/Users/rairaokuno/opt/anaconda3/lib/python3.7/site-packages/sklearn/preprocessing/label.py:252: DataConversionWarning: A column-vector y was passed when a 1d array was expected. Please change the shape of y to (n_samples, ), for example using ravel().\n",
      "  y = column_or_1d(y, warn=True)\n"
     ]
    },
    {
     "name": "stdout",
     "output_type": "stream",
     "text": [
      "                importance\n",
      "age                    535\n",
      "euribor3m              502\n",
      "campaign               304\n",
      "education              236\n",
      "job                    225\n",
      "day_of_week            200\n",
      "cons.conf.idx          141\n",
      "cons.price.idx         140\n",
      "housing                106\n",
      "marital                105\n",
      "pdays                   92\n",
      "contact                 78\n",
      "emp.var.rate            67\n",
      "nr.employed             61\n",
      "default                 53\n",
      "loan                    53\n",
      "previous                53\n",
      "poutcome                49\n"
     ]
    },
    {
     "name": "stderr",
     "output_type": "stream",
     "text": [
      "/Users/rairaokuno/opt/anaconda3/lib/python3.7/site-packages/ipykernel_launcher.py:49: FutureWarning: by argument to sort_index is deprecated, please use .sort_values(by=...)\n"
     ]
    }
   ],
   "source": [
    "prediction_lgbc = simple_lgbc_model(train_df=train, test_df=test)"
   ]
  },
  {
   "cell_type": "code",
   "execution_count": 6,
   "metadata": {},
   "outputs": [],
   "source": [
    "def evaluation(answer, prediction):\n",
    "    print(\"accuracy_score:\", accuracy_score(answer, prediction))\n",
    "    print(\"precision_score:\", precision_score(answer, prediction))\n",
    "    print(\"recall_score:\",recall_score(answer, prediction))\n",
    "    print(\"f1_score:\",f1_score(answer, prediction))\n",
    "    print(\"roc_auc_score:\", roc_auc_score(answer, prediction))"
   ]
  },
  {
   "cell_type": "code",
   "execution_count": 7,
   "metadata": {},
   "outputs": [
    {
     "name": "stdout",
     "output_type": "stream",
     "text": [
      "accuracy_score: 0.28918295495932983\n",
      "precision_score: 0.11840471756672874\n",
      "recall_score: 0.8143009605122732\n",
      "f1_score: 0.20674705324481776\n",
      "roc_auc_score: 0.5180408912150407\n"
     ]
    }
   ],
   "source": [
    "true = test[\"y\"]\n",
    "evaluation(answer=test[\"y\"], prediction=prediction_lgbc)"
   ]
  },
  {
   "cell_type": "code",
   "execution_count": 13,
   "metadata": {},
   "outputs": [
    {
     "name": "stdout",
     "output_type": "stream",
     "text": [
      "[[6815  485]\n",
      " [ 825  112]]\n"
     ]
    }
   ],
   "source": [
    "cm = confusion_matrix(true, prediction_lgbc)\n",
    "print(cm)"
   ]
  },
  {
   "cell_type": "code",
   "execution_count": 9,
   "metadata": {},
   "outputs": [
    {
     "data": {
      "text/plain": [
       "937"
      ]
     },
     "execution_count": 9,
     "metadata": {},
     "output_type": "execute_result"
    }
   ],
   "source": [
    "true.sum()"
   ]
  },
  {
   "cell_type": "code",
   "execution_count": 10,
   "metadata": {},
   "outputs": [
    {
     "data": {
      "text/plain": [
       "6444"
      ]
     },
     "execution_count": 10,
     "metadata": {},
     "output_type": "execute_result"
    }
   ],
   "source": [
    "prediction_lgbc.sum()"
   ]
  }
 ],
 "metadata": {
  "kernelspec": {
   "display_name": "Python 3",
   "language": "python",
   "name": "python3"
  },
  "language_info": {
   "codemirror_mode": {
    "name": "ipython",
    "version": 3
   },
   "file_extension": ".py",
   "mimetype": "text/x-python",
   "name": "python",
   "nbconvert_exporter": "python",
   "pygments_lexer": "ipython3",
   "version": "3.7.4"
  }
 },
 "nbformat": 4,
 "nbformat_minor": 2
}
