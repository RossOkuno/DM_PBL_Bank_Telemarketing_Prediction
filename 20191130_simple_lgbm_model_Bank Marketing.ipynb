{
 "cells": [
  {
   "cell_type": "code",
   "execution_count": null,
   "metadata": {},
   "outputs": [],
   "source": [
    "import pandas as pd\n",
    "import numpy as np\n",
    "import seaborn as sns\n",
    "import matplotlib.pyplot as plt\n",
    "from sklearn.model_selection import train_test_split\n",
    "from sklearn.ensemble import RandomForestClassifier\n",
    "from sklearn.metrics import accuracy_score\n",
    "from sklearn.preprocessing import LabelEncoder\n",
    "\n",
    "import lightgbm as lgb\n",
    "from sklearn.metrics import mean_squared_error\n",
    "from sklearn.metrics import precision_score\n",
    "from sklearn.metrics import recall_score\n",
    "from sklearn.metrics import f1_score\n",
    "from sklearn.metrics import roc_auc_score\n",
    "\n",
    "from sklearn.metrics import confusion_matrix"
   ]
  },
  {
   "cell_type": "code",
   "execution_count": null,
   "metadata": {
    "scrolled": true
   },
   "outputs": [],
   "source": [
    "train = pd.read_csv(\"bank_marketing_train.csv\")\n",
    "test = pd.read_csv(\"bank_marketing_test.csv\")"
   ]
  },
  {
   "cell_type": "code",
   "execution_count": null,
   "metadata": {},
   "outputs": [],
   "source": [
    "def simple_lgbc_model(train_df, test_df):\n",
    "    \"\"\"\n",
    "    This function returns a list of prediction. \n",
    "    Several libraries required. Copy, paste the following codes and run in advance.\n",
    "    \n",
    "    import pandas as pd\n",
    "    import numpy as np\n",
    "    import seaborn as sns\n",
    "    import matplotlib.pyplot as plt\n",
    "    from sklearn.model_selection import train_test_split\n",
    "    from sklearn.ensemble import RandomForestClassifier\n",
    "    from sklearn.metrics import accuracy_score\n",
    "    from sklearn.preprocessing import LabelEncoder\n",
    "    \n",
    "    Parameters\n",
    "    ----------\n",
    "    train_df : Pandas DataFrame. Including 20 features cols and 1 target cols.\n",
    "    test_df : Pandas DataFrame. Including 20 features cols.\n",
    "    In advance, label encording is not necessary, as it automatically process.\n",
    "    \"\"\"\n",
    "    combined = [train_df, test_df]\n",
    "\n",
    "    target_col = [\"y\"]\n",
    "    drop_cols = [\"duration\"] + target_col\n",
    "    feature_cols = [col for col in train_df.columns if col not in drop_cols]\n",
    "    categorical_cols =  train_df.select_dtypes(exclude=\"number\").columns.tolist()\n",
    "    numerical_cols = [col for col in train_df.columns if col not in categorical_cols]\n",
    "    \n",
    "    le = LabelEncoder()\n",
    "    for df in combined:\n",
    "        for col in categorical_cols:\n",
    "            df[col] = le.fit_transform(df[col])\n",
    "    \n",
    "    X = train_df[feature_cols]\n",
    "    y = train_df[target_col]\n",
    "    X2 = test_df[feature_cols]\n",
    "    \n",
    "    #     from sklearn.model_selection import train_test_split\n",
    "    X_train, X_val, y_train, y_val = train_test_split(X, y, test_size = 0.3, random_state = 1234)\n",
    "            \n",
    "    seed = 1234\n",
    "    gbm = lgb.LGBMClassifier(class_weight=\"balanced\")\n",
    "\n",
    "    gbm.fit(X_train, y_train, eval_set=[(X_val, y_val)], early_stopping_rounds=10, verbose=False)\n",
    "    ret = mean_squared_error(y_val, gbm.predict(X_val))\n",
    "\n",
    "    # make an importance dataframe\n",
    "    importance = pd.DataFrame(gbm.feature_importances_, index=train[feature_cols].columns, columns=['importance'])\n",
    "    print(importance.sort_index(by=\"importance\", ascending=False))\n",
    "    \n",
    "    # prediction\n",
    "    y_pred_clf = gbm.predict(X2)\n",
    "    \n",
    "    return y_pred_clf"
   ]
  },
  {
   "cell_type": "code",
   "execution_count": null,
   "metadata": {},
   "outputs": [],
   "source": [
    "train.head()\n",
    "test.head()"
   ]
  },
  {
   "cell_type": "code",
   "execution_count": null,
   "metadata": {},
   "outputs": [],
   "source": [
    "prediction_lgbc = simple_lgbc_model(train_df=train, test_df=test)"
   ]
  },
  {
   "cell_type": "code",
   "execution_count": null,
   "metadata": {},
   "outputs": [],
   "source": [
    "def evaluation(answer, prediction):\n",
    "    print(\"accuracy_score:\", accuracy_score(answer, prediction))\n",
    "    print(\"precision_score:\", precision_score(answer, prediction))\n",
    "    print(\"recall_score:\",recall_score(answer, prediction))\n",
    "    print(\"f1_score:\",f1_score(answer, prediction))\n",
    "    print(\"roc_auc_score:\", roc_auc_score(answer, prediction))"
   ]
  },
  {
   "cell_type": "code",
   "execution_count": null,
   "metadata": {},
   "outputs": [],
   "source": [
    "true = test[\"y\"]\n",
    "evaluation(answer=test[\"y\"], prediction=prediction_lgbc)"
   ]
  },
  {
   "cell_type": "code",
   "execution_count": null,
   "metadata": {},
   "outputs": [],
   "source": [
    "cm = confusion_matrix(true, prediction_lgbc)\n",
    "print(cm)"
   ]
  },
  {
   "cell_type": "code",
   "execution_count": null,
   "metadata": {},
   "outputs": [],
   "source": [
    "true.sum()"
   ]
  },
  {
   "cell_type": "code",
   "execution_count": null,
   "metadata": {},
   "outputs": [],
   "source": [
    "prediction_lgbc.sum()"
   ]
  }
 ],
 "metadata": {
  "kernelspec": {
   "display_name": "Python 3",
   "language": "python",
   "name": "python3"
  },
  "language_info": {
   "codemirror_mode": {
    "name": "ipython",
    "version": 3
   },
   "file_extension": ".py",
   "mimetype": "text/x-python",
   "name": "python",
   "nbconvert_exporter": "python",
   "pygments_lexer": "ipython3",
   "version": "3.7.4"
  }
 },
 "nbformat": 4,
 "nbformat_minor": 2
}
